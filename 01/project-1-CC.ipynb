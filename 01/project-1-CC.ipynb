{
 "cells": [
  {
   "cell_type": "markdown",
   "metadata": {},
   "source": [
    "<img src=\"http://imgur.com/1ZcRyrc.png\" style=\"float: left; margin: 20px; height: 55px\">\n",
    "\n",
    "# Project 1: Python Coding Exercises\n",
    "\n",
    "_Authors: Joseph Nelson (DC)_\n",
    "\n",
    "---"
   ]
  },
  {
   "cell_type": "markdown",
   "metadata": {},
   "source": [
    "The following code challenges are drawn from common exercises used in technical interviews.\n",
    "\n",
    "Please note that there may be several ways to approach each challenge. If you get stuck, try mapping out your approach in pseudocode first. Finally, while solutions to problems like these may be found online, remember that if you copy/paste code that you can't explain, you'll be missing out on the point of the project. The only way to truly learn a new skill is through practice, trial, and error - we can only help you improve by understanding where you are having trouble."
   ]
  },
  {
   "cell_type": "markdown",
   "metadata": {},
   "source": [
    "### Challenge 1: Largest Palindrome\n",
    "A palindromic number reads the same both ways. For example, 1234321 is a palindrome. The largest palindrome made from the product of two two-digit numbers is 9009 = 91 × 99. Find the largest palindrome made from the product of two three-digit numbers. Afterward, write a brief explanation walking through your code's logic in markdown."
   ]
  },
  {
   "cell_type": "code",
   "execution_count": 1,
   "metadata": {},
   "outputs": [
    {
     "name": "stdout",
     "output_type": "stream",
     "text": [
      "906609\n"
     ]
    }
   ],
   "source": [
    "# Three digits numbers start with 100 to 999. \n",
    "# The max value result from multiplying two 3 digits numbers has to be less than 7 digits (i.e 1,000,000), which mean the max palindrome has to be 6 digits\n",
    "\n",
    "palindrom = []\n",
    "\n",
    "# creat two for loop to iterate all the products from the two variables, elinimating anything less than 6 digits (i.e 99,999)\n",
    "\n",
    "for i in range(100,1000):\n",
    "    for j in range (100,1000):\n",
    "        v = i*j\n",
    "\n",
    "        # Convert the 6 digits output into string. Slice the first 3 digits and compare to the last 3 digits in reverse order\n",
    "        # set v > 99999 to elminate smaller value as only max value are being seek for, meant to improve code efficiency\n",
    "\n",
    "        if str(v)[0:3] == str(v)[:2:-1] and v > 99999:\n",
    "            \n",
    "            # if it match, add to the empty created palindrom\n",
    "            \n",
    "            palindrom.append(v)\n",
    "\n",
    "# Use print and max function to return the max value from the palindrom list    \n",
    "            \n",
    "print(max(palindrom))"
   ]
  },
  {
   "cell_type": "code",
   "execution_count": 2,
   "metadata": {},
   "outputs": [
    {
     "name": "stdout",
     "output_type": "stream",
     "text": [
      "906609\n",
      "993 x 913\n"
     ]
    }
   ],
   "source": [
    "palindrom = {}\n",
    "\n",
    "for i in range(100,1000):\n",
    "    for j in range (100,1000):\n",
    "        v = i*j\n",
    "        if str(v)[0:3] == str(v)[:2:-1] and v > 99999:\n",
    "            palindrom[v] = str(i) + ' x ' + str(j)\n",
    "print(max(palindrom))\n",
    "print(palindrom[max(palindrom)])\n",
    "\n",
    "# Dictionary method in case I was being asked on what are the two 3 digits numbers that made up the max palindrom"
   ]
  },
  {
   "cell_type": "markdown",
   "metadata": {},
   "source": [
    "\n",
    "### Challenge 2: Summation of Primes\n",
    "The sum of the primes below 10 is 2 + 3 + 5 + 7 = 17. Find the sum of all the primes below 2,000. Afterward, write a brief explanation walking through your code's logic in markdown."
   ]
  },
  {
   "cell_type": "code",
   "execution_count": 3,
   "metadata": {},
   "outputs": [
    {
     "name": "stdout",
     "output_type": "stream",
     "text": [
      "277050\n"
     ]
    }
   ],
   "source": [
    "# Empty list created to collect prime number\n",
    "\n",
    "primelist = []\n",
    "\n",
    "\n",
    "# loop through value up to 1999 since question want numbers below 2000. Skip 1 since it is not a prime number\n",
    "\n",
    "for p in range(2,2000):\n",
    "\n",
    "    #set the range to be sqtr plus 1 of 1999 to shorten the range to loop through. Idea obtained from slack\n",
    "    \n",
    "    for i in range (2,p//2+1):\n",
    "\n",
    "    #if the value is divisble by any number in the range, it won't be a prime number, break the if logic and go to the next number\n",
    "        if p%i == 0:\n",
    "            break\n",
    "    \n",
    "# if the value is not divisble by any values in the range that are smaller than itself, add to the list\n",
    "    else:\n",
    "        primelist.append(p)\n",
    "\n",
    "        \n",
    "# sum the list to get the summation\n",
    "\n",
    "print(sum(primelist))\n",
    "            \n",
    "    "
   ]
  },
  {
   "cell_type": "markdown",
   "metadata": {},
   "source": [
    "### Challenge 3: Multiples of 3 and 5\n",
    "If we list all of the natural numbers below 10 that are multiples of 3 or 5, we get 3, 5, 6, and 9. The sum of these multiples is 23. Find the sum of all the multiples of 3 and 5 below 1,000. Afterward, write a brief explanation walking through your code's logic in markdown."
   ]
  },
  {
   "cell_type": "code",
   "execution_count": 4,
   "metadata": {},
   "outputs": [
    {
     "name": "stdout",
     "output_type": "stream",
     "text": [
      "233168\n"
     ]
    }
   ],
   "source": [
    "# Create an empty list that will hold all numbers that meet the condition of multiples of 3 or 5\n",
    "multiple = []\n",
    "\n",
    "# Use a for loop to iterate through 1 - 999, use if statement to get numbers that are divisible by 3 or 5. \n",
    "for num in range(1,1000):\n",
    "    if num%3 ==0 or num%5 ==0:\n",
    "    \n",
    "        # Add the number to the list when the number meet the condition\n",
    "        multiple.append(num)\n",
    "\n",
    "# print the list with sum function\n",
    "print (sum(multiple))"
   ]
  },
  {
   "cell_type": "markdown",
   "metadata": {},
   "source": [
    "### Challenge 4: String Compressor\n",
    "Implement a method to perform basic string compression using the counts of repeated characters. (This is called run-length encoding.) For example, the string \"aabcccccaaa\" would become a2b1c5a3. If the “compressed” string would not become smaller than the original string, your method should return the original string. You can assume the string has only uppercase and lowercase letters (a–z). Specify whether your solution is case sensitive or case insensitive and what you would need to change to make it the other. Afterward, write a brief explanation walking through your code's logic in markdown."
   ]
  },
  {
   "cell_type": "code",
   "execution_count": 5,
   "metadata": {},
   "outputs": [],
   "source": [
    "# define a function with letter (type str) as input\n",
    "def string (letter):\n",
    "    \n",
    "    emptylist = []\n",
    "    \n",
    "    # use for loop to get the char of the letter string, as well as the occurance count of each char    \n",
    "    for char in letter.lower():\n",
    "\n",
    "    # conver the count into string and add that to the char, and append that to an empty list\n",
    "        emptylist.append(char+str(letter.count(char)))\n",
    "\n",
    "    # After the loop is complete, use set function to remove duplicates from the list. Use join function attach the list members to form a string\n",
    "        # sorted method here could be optional, since question did not specifically asked for that   \n",
    "    #assign to variable compressed\n",
    "   \n",
    "    compressed = ''.join(sorted(set(emptylist), key=emptylist.index))\n",
    "    \n",
    "    #if condition to test whether the len of the compressed output is shorter than the origin lette input\n",
    "    if len(compressed) >= len(letter):\n",
    "        return letter\n",
    "    else:\n",
    "        return compressed"
   ]
  },
  {
   "cell_type": "markdown",
   "metadata": {},
   "source": [
    "### *BONUS* Challenge: FizzBuzz\n",
    "Write a program that prints all of the numbers from 1 to 100. For multiples of 3, instead of the number, print \"Fizz;\" for multiples of 5, print \"Buzz.\" For numbers that are multiples of both 3 and 5, print \"FizzBuzz.\" Afterward, write a brief explanation walking through your code's logic in markdown."
   ]
  },
  {
   "cell_type": "code",
   "execution_count": 6,
   "metadata": {},
   "outputs": [
    {
     "name": "stdout",
     "output_type": "stream",
     "text": [
      "1\n",
      "2\n",
      "Fizz\n",
      "4\n",
      "Buzz\n",
      "Fizz\n",
      "7\n",
      "8\n",
      "Fizz\n",
      "Buzz\n",
      "11\n",
      "Fizz\n",
      "13\n",
      "14\n",
      "FizzBuzz\n",
      "16\n",
      "17\n",
      "Fizz\n",
      "19\n",
      "Buzz\n",
      "Fizz\n",
      "22\n",
      "23\n",
      "Fizz\n",
      "Buzz\n",
      "26\n",
      "Fizz\n",
      "28\n",
      "29\n",
      "FizzBuzz\n",
      "31\n",
      "32\n",
      "Fizz\n",
      "34\n",
      "Buzz\n",
      "Fizz\n",
      "37\n",
      "38\n",
      "Fizz\n",
      "Buzz\n",
      "41\n",
      "Fizz\n",
      "43\n",
      "44\n",
      "FizzBuzz\n",
      "46\n",
      "47\n",
      "Fizz\n",
      "49\n",
      "Buzz\n",
      "Fizz\n",
      "52\n",
      "53\n",
      "Fizz\n",
      "Buzz\n",
      "56\n",
      "Fizz\n",
      "58\n",
      "59\n",
      "FizzBuzz\n",
      "61\n",
      "62\n",
      "Fizz\n",
      "64\n",
      "Buzz\n",
      "Fizz\n",
      "67\n",
      "68\n",
      "Fizz\n",
      "Buzz\n",
      "71\n",
      "Fizz\n",
      "73\n",
      "74\n",
      "FizzBuzz\n",
      "76\n",
      "77\n",
      "Fizz\n",
      "79\n",
      "Buzz\n",
      "Fizz\n",
      "82\n",
      "83\n",
      "Fizz\n",
      "Buzz\n",
      "86\n",
      "Fizz\n",
      "88\n",
      "89\n",
      "FizzBuzz\n",
      "91\n",
      "92\n",
      "Fizz\n",
      "94\n",
      "Buzz\n",
      "Fizz\n",
      "97\n",
      "98\n",
      "Fizz\n",
      "Buzz\n"
     ]
    }
   ],
   "source": [
    "# lpop through the range from 1 to 100 (inclsive)\n",
    "for i in range(1,101):\n",
    "    \n",
    "    #test if the number is divisible by 3 and 5\n",
    "\n",
    "    if i%3 == 0 and i%5 ==0:\n",
    "        print('FizzBuzz')\n",
    "\n",
    "    #test if the number is divisible by 3\n",
    "    \n",
    "    elif i%3 == 0:\n",
    "        print('Fizz')\n",
    "    \n",
    "    #test if the number is divisible by 5\n",
    "    \n",
    "    elif i%5 == 0:\n",
    "        print('Buzz')\n",
    "    \n",
    "    #if none of the above conditions met, print the number itself\n",
    "    else:\n",
    "        print(i)"
   ]
  },
  {
   "cell_type": "code",
   "execution_count": null,
   "metadata": {},
   "outputs": [],
   "source": []
  }
 ],
 "metadata": {
  "anaconda-cloud": {},
  "kernelspec": {
   "display_name": "Python 3",
   "language": "python",
   "name": "python3"
  },
  "language_info": {
   "codemirror_mode": {
    "name": "ipython",
    "version": 3
   },
   "file_extension": ".py",
   "mimetype": "text/x-python",
   "name": "python",
   "nbconvert_exporter": "python",
   "pygments_lexer": "ipython3",
   "version": "3.6.5"
  }
 },
 "nbformat": 4,
 "nbformat_minor": 2
}
